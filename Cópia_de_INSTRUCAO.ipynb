{
  "nbformat": 4,
  "nbformat_minor": 0,
  "metadata": {
    "colab": {
      "name": "Cópia de INSTRUCAO.ipynb",
      "provenance": [],
      "authorship_tag": "ABX9TyMTNNyGIbABxPqgC4o9VbkT",
      "include_colab_link": true
    },
    "kernelspec": {
      "name": "python3",
      "display_name": "Python 3"
    },
    "language_info": {
      "name": "python"
    }
  },
  "cells": [
    {
      "cell_type": "markdown",
      "metadata": {
        "id": "view-in-github",
        "colab_type": "text"
      },
      "source": [
        "<a href=\"https://colab.research.google.com/github/andrelb2000/V1/blob/main/C%C3%B3pia_de_INSTRUCAO.ipynb\" target=\"_parent\"><img src=\"https://colab.research.google.com/assets/colab-badge.svg\" alt=\"Open In Colab\"/></a>"
      ]
    },
    {
      "cell_type": "markdown",
      "source": [
        "ENCONTRO SEM 1 - ENCONTRO 01"
      ],
      "metadata": {
        "id": "Vyb5ds9vtNw2"
      }
    },
    {
      "cell_type": "markdown",
      "source": [
        "ENCONTRO SEM 2 - ENCONTRO 01"
      ],
      "metadata": {
        "id": "jdJSDfCsuB46"
      }
    },
    {
      "cell_type": "code",
      "execution_count": null,
      "metadata": {
        "id": "HTwqCB_ipmMI"
      },
      "outputs": [],
      "source": [
        ""
      ]
    }
  ]
}